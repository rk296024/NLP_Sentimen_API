{
 "cells": [
  {
   "cell_type": "code",
   "execution_count": 4,
   "metadata": {},
   "outputs": [
    {
     "name": "stdout",
     "output_type": "stream",
     "text": [
      "Number of positive comments: 8210\n",
      "Number of negative comments: 1341\n",
      "                                                Comment     Label\n",
      "0     Tires where delivered to the garage of my choi...  positive\n",
      "1     Easy Tyre Selection Process, Competitive Prici...  positive\n",
      "2     Very easy to use and good value for money. val...  positive\n",
      "3     Really easy and convenient to arrange ease of ...  positive\n",
      "4     It was so easy to select tyre sizes and arrang...  positive\n",
      "...                                                 ...       ...\n",
      "9546  I ordered the wrong tyres, however [REDACTED] ...  positive\n",
      "9547  Good experience, first time I have used [REDAC...  positive\n",
      "9548  I ordered the tyre I needed on line, booked a ...  positive\n",
      "9549  Excellent service from point of order to fitti...  positive\n",
      "9550       Seamless, well managed at both ends. I would  positive\n",
      "\n",
      "[9551 rows x 2 columns]\n"
     ]
    }
   ],
   "source": [
    "import pandas as pd\n",
    "\n",
    "# Define positive and negative keywords\n",
    "positive_keywords = ['positive', 'excellent', 'great', 'good', 'well', 'brilliant', 'recommend', 'fantastic', 'seamless', 'easy', 'value', 'first class', 'outstanding', 'quick', 'efficient', 'competitive', 'friendly', 'flexible']\n",
    "negative_keywords = ['negative', 'poor', 'bad', 'problem', 'issue', 'complaint', 'unhappy', 'disappointed', 'worse', 'difficult', 'wait', 'delay', 'hassle']\n",
    "\n",
    "# Load the data from the CSV file\n",
    "data = pd.read_csv(r'C:\\Users\\HP\\FastAPI\\Evaluation-dataset.csv', header=None)\n",
    "\n",
    "# Initialize lists for comments and labels\n",
    "comments = []\n",
    "labels = []\n",
    "\n",
    "# Function to determine sentiment from keywords\n",
    "def determine_sentiment(text):\n",
    "    for word in positive_keywords:\n",
    "        if word in text.lower():\n",
    "            return 'positive'\n",
    "    for word in negative_keywords:\n",
    "        if word in text.lower():\n",
    "            return 'negative'\n",
    "    return 'unknown'\n",
    "\n",
    "# Process each row of data\n",
    "for index, row in data.iterrows():\n",
    "    # Combine all columns into a single string\n",
    "    combined_row = ' '.join(row.dropna().astype(str))\n",
    "    words = combined_row.split()\n",
    "\n",
    "    # Separate the last word as the label and the rest as the comment\n",
    "    comment = ' '.join(words[:-1])\n",
    "    label = words[-1]\n",
    "\n",
    "    # If the last word is not a sentiment label, determine the sentiment from the comment\n",
    "    if label not in ['positive', 'negative']:\n",
    "        label = determine_sentiment(comment)\n",
    "\n",
    "    # Filter only rows with labels 'positive' or 'negative'\n",
    "    if label in ['positive', 'negative']:\n",
    "        comments.append(comment)\n",
    "        labels.append(label)\n",
    "\n",
    "# Create a DataFrame from the lists\n",
    "df = pd.DataFrame({\n",
    "    'Comment': comments,\n",
    "    'Label': labels\n",
    "})\n",
    "\n",
    "# Save the DataFrame to a CSV file\n",
    "df.to_csv(r'C:\\Users\\HP\\FastAPI\\Processed-dataset.csv', index=False)\n",
    "\n",
    "# Count the number of positive and negative comments\n",
    "label_counts = df['Label'].value_counts()\n",
    "\n",
    "# Print the counts\n",
    "print(\"Number of positive comments:\", label_counts.get('positive', 0))\n",
    "print(\"Number of negative comments:\", label_counts.get('negative', 0))\n",
    "\n",
    "# Print the DataFrame\n",
    "print(df)"
   ]
  },
  {
   "cell_type": "code",
   "execution_count": 7,
   "metadata": {},
   "outputs": [
    {
     "name": "stdout",
     "output_type": "stream",
     "text": [
      "Fitting 5 folds for each of 112 candidates, totalling 560 fits\n",
      "Best Algorithm: LogisticRegression(C=10)\n",
      "              precision    recall  f1-score   support\n",
      "\n",
      "    negative       0.79      0.73      0.76       268\n",
      "    positive       0.96      0.97      0.96      1643\n",
      "\n",
      "    accuracy                           0.94      1911\n",
      "   macro avg       0.87      0.85      0.86      1911\n",
      "weighted avg       0.93      0.94      0.93      1911\n",
      "\n",
      "F1 Score (Micro): 0.9351125065410779\n"
     ]
    }
   ],
   "source": [
    "import pandas as pd\n",
    "from sklearn.model_selection import train_test_split, GridSearchCV\n",
    "from sklearn.feature_extraction.text import TfidfVectorizer\n",
    "from sklearn.linear_model import LogisticRegression\n",
    "from sklearn.svm import LinearSVC\n",
    "from sklearn.ensemble import RandomForestClassifier\n",
    "from sklearn.pipeline import Pipeline\n",
    "from sklearn.metrics import classification_report, f1_score, roc_curve, auc, confusion_matrix, precision_recall_curve, average_precision_score\n",
    "from sklearn.preprocessing import LabelBinarizer\n",
    "import matplotlib.pyplot as plt\n",
    "import seaborn as sns\n",
    "import numpy as np\n",
    "import pickle\n",
    "\n",
    "# Load the data from a CSV file\n",
    "data = pd.read_csv(r'C:\\Users\\HP\\FastAPI\\Processed-dataset.csv')\n",
    "\n",
    "# Split the data into training and test sets\n",
    "train_data, test_data = train_test_split(data, test_size=0.2, random_state=42)\n",
    "\n",
    "# Prepare training data for model\n",
    "train_reviews = train_data['Comment']\n",
    "train_labels = train_data['Label']\n",
    "\n",
    "# Prepare test data for model\n",
    "test_reviews = test_data['Comment']\n",
    "test_labels = test_data['Label']\n",
    "\n",
    "# Define a pipeline for the model\n",
    "pipeline = Pipeline([\n",
    "    ('tfidf', TfidfVectorizer()),\n",
    "    ('clf', LogisticRegression())\n",
    "])\n",
    "\n",
    "# Define parameter grid for GridSearchCV\n",
    "param_grid = [\n",
    "    {\n",
    "        'clf': [LogisticRegression()],\n",
    "        'clf__C': [0.1, 1, 10, 20],\n",
    "        'tfidf__max_features': [1000, 2000, 3000, 4000],\n",
    "    },\n",
    "    {\n",
    "        'clf': [LinearSVC()],\n",
    "        'clf__C': [0.1, 1, 10, 20],\n",
    "        'tfidf__max_features': [1000, 2000, 3000, 4000],\n",
    "    },\n",
    "    {\n",
    "        'clf': [RandomForestClassifier()],\n",
    "        'clf__n_estimators': [50, 100, 200 , 300],\n",
    "        'clf__max_depth': [None, 10, 20, 30, 50],\n",
    "        'tfidf__max_features': [1000, 2000, 3000, 4000],\n",
    "    }\n",
    "]\n",
    "\n",
    "# Perform GridSearchCV to find the best model\n",
    "grid_search = GridSearchCV(pipeline, param_grid, cv=5, verbose=1, n_jobs=-1)\n",
    "grid_search.fit(train_reviews, train_labels)\n",
    "\n",
    "# Print the best algorithm chosen\n",
    "best_algorithm = grid_search.best_estimator_.named_steps['clf']\n",
    "print(\"Best Algorithm:\", best_algorithm)\n",
    "\n",
    "# Get the best model from GridSearchCV\n",
    "best_model = grid_search.best_estimator_\n",
    "\n",
    "# Save the best model to a pickle file\n",
    "with open('best_model.pkl', 'wb') as file:\n",
    "    pickle.dump(best_model, file)\n",
    "\n",
    "# Predict sentiments on the test data\n",
    "predicted_labels = best_model.predict(test_reviews)\n",
    "\n",
    "# Evaluate the model\n",
    "report = classification_report(test_labels, predicted_labels)\n",
    "print(report)\n",
    "\n",
    "# Calculate F1 score\n",
    "f1 = f1_score(test_labels, predicted_labels, average='micro')\n",
    "print(\"F1 Score (Micro):\", f1)\n"
   ]
  },
  {
   "cell_type": "code",
   "execution_count": 8,
   "metadata": {},
   "outputs": [
    {
     "data": {
      "image/png": "[encoded data removed]",
      "text/plain": [
       "<Figure size 800x600 with 2 Axes>"
      ]
     },
     "metadata": {},
     "output_type": "display_data"
    }
   ],
   "source": [
    "# Plot confusion matrix\n",
    "conf_matrix = confusion_matrix(test_labels, predicted_labels)\n",
    "plt.figure(figsize=(8, 6))\n",
    "sns.heatmap(conf_matrix, annot=True, fmt=\"d\", cmap=\"Blues\", xticklabels=['negative', 'positive'], yticklabels=['negative', 'positive'])\n",
    "plt.xlabel('Predicted Labels')\n",
    "plt.ylabel('True Labels')\n",
    "plt.title('Confusion Matrix')\n",
    "plt.show()"
   ]
  },
  {
   "cell_type": "code",
   "execution_count": 9,
   "metadata": {},
   "outputs": [
    {
     "ename": "NameError",
     "evalue": "name 'test_labels_binarized' is not defined",
     "output_type": "error",
     "traceback": [
      "\u001b[1;31m---------------------------------------------------------------------------\u001b[0m",
      "\u001b[1;31mNameError\u001b[0m                                 Traceback (most recent call last)",
      "Cell \u001b[1;32mIn[9], line 5\u001b[0m\n\u001b[0;32m      2\u001b[0m plt\u001b[38;5;241m.\u001b[39mfigure(figsize\u001b[38;5;241m=\u001b[39m(\u001b[38;5;241m8\u001b[39m, \u001b[38;5;241m6\u001b[39m))\n\u001b[0;32m      4\u001b[0m \u001b[38;5;66;03m# Calculate and plot Precision-Recall curve directly for the positive class\u001b[39;00m\n\u001b[1;32m----> 5\u001b[0m precision, recall, _ \u001b[38;5;241m=\u001b[39m precision_recall_curve(\u001b[43mtest_labels_binarized\u001b[49m, predicted_labels_binarized)\n\u001b[0;32m      6\u001b[0m average_precision \u001b[38;5;241m=\u001b[39m average_precision_score(test_labels_binarized, predicted_labels_binarized)\n\u001b[0;32m      7\u001b[0m plt\u001b[38;5;241m.\u001b[39mplot(recall, precision, label\u001b[38;5;241m=\u001b[39m\u001b[38;5;124mf\u001b[39m\u001b[38;5;124m'\u001b[39m\u001b[38;5;124mPositive (AP = \u001b[39m\u001b[38;5;132;01m{\u001b[39;00maverage_precision\u001b[38;5;132;01m:\u001b[39;00m\u001b[38;5;124m.2f\u001b[39m\u001b[38;5;132;01m}\u001b[39;00m\u001b[38;5;124m)\u001b[39m\u001b[38;5;124m'\u001b[39m)\n",
      "\u001b[1;31mNameError\u001b[0m: name 'test_labels_binarized' is not defined"
     ]
    },
    {
     "data": {
      "text/plain": [
       "<Figure size 800x600 with 0 Axes>"
      ]
     },
     "metadata": {},
     "output_type": "display_data"
    }
   ],
   "source": [
    "# Plot Precision-Recall curve\n",
    "plt.figure(figsize=(8, 6))\n",
    "\n",
    "# Calculate and plot Precision-Recall curve directly for the positive class\n",
    "precision, recall, _ = precision_recall_curve(test_labels_binarized, predicted_labels_binarized)\n",
    "average_precision = average_precision_score(test_labels_binarized, predicted_labels_binarized)\n",
    "plt.plot(recall, precision, label=f'Positive (AP = {average_precision:.2f})')\n",
    "\n",
    "plt.xlabel('Recall')\n",
    "plt.ylabel('Precision')\n",
    "plt.title('Precision-Recall Curve')\n",
    "plt.legend(loc='lower left')\n",
    "plt.show()"
   ]
  },
  {
   "cell_type": "markdown",
   "metadata": {},
   "source": [
    "data_set = \"https://www.google.com/url?q=https%3A%2F%2Fdrive.google.com%2Ffile%2Fd%2F1m9tsFuXxHUAOPxNqCeLFVkDhINSmoMf4%2Fview%3Fusp%3Dsharing\""
   ]
  }
 ],
 "metadata": {
  "kernelspec": {
   "display_name": ".venv",
   "language": "python",
   "name": "python3"
  },
  "language_info": {
   "codemirror_mode": {
    "name": "ipython",
    "version": 3
   },
   "file_extension": ".py",
   "mimetype": "text/x-python",
   "name": "python",
   "nbconvert_exporter": "python",
   "pygments_lexer": "ipython3",
   "version": "3.10.5"
  }
 },
 "nbformat": 4,
 "nbformat_minor": 2
}
